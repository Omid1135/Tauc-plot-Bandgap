{
 "cells": [
  {
   "cell_type": "code",
   "execution_count": 1,
   "id": "4441bd67",
   "metadata": {},
   "outputs": [
    {
     "name": "stdout",
     "output_type": "stream",
     "text": [
      "   Wavelength(nm)  AbsorptionC\n",
      "3      798.991455     0.092731\n",
      "4      798.016174     0.092323\n",
      "5      797.005798     0.092476\n",
      "6      795.994873     0.091779\n",
      "7      794.983643     0.091488\n"
     ]
    }
   ],
   "source": [
    "\"\"\"Tauc_plot_bandgap_Python,\n",
    "Author:\n",
    "Gholamhosain Haidari \n",
    "Email address: moh1135@gmail.com\n",
    "LinkedIn: linkedin.com/in/gholamhosain-haidari\n",
    "Orcid: https://orcid.org/0000-0003-2400-9280\n",
    "-----\n",
    "Tauc Plot Generation: Importing and Preprocessing\n",
    "    Wavelength-Absorption Data from Excel for Bandgap Analysis\"\"\"\n",
    "# Import required libraries for data manipulation, visualization, curve fitting, and selecting points on a graph\n",
    "import pandas as pd\n",
    "import numpy as np\n",
    "import matplotlib.pyplot as plt\n",
    "from scipy.optimize import curve_fit\n",
    "from matplotlib.widgets import RectangleSelector\n",
    "\n",
    "# Load the data from a CSV-Ecxel file and preprocess it as needed\n",
    "data = pd.read_excel(\"Raw wavelength_absorption_data.xlsx\", usecols=[\"Wavelength(nm)\", \"AbsorptionC\"])\n",
    "\n",
    "# Skip the first three rows of the loaded data to remove unnecessary information \n",
    "data = data.iloc[3:]\n",
    "# Display the first five rows of the DataFrame to preview the processed data\n",
    "print(data.head())\n"
   ]
  },
  {
   "cell_type": "code",
   "execution_count": null,
   "id": "7273e970",
   "metadata": {},
   "outputs": [],
   "source": [
    "\"\"\"Bandgap Calculation Preparation: Planck Constant, \n",
    "   Energy Conversion, and Direct Tauk Plot Data Generation\"\"\"\n",
    "# Define the Planck constant as a constant value for bandgap calculations\n",
    "planck_constant = 6.626e-34\n",
    "# Create a new column 'Energy (eV)' by converting wavelength (nm) data to energy (eV)\n",
    "data['Energy (eV)'] = 1240 / data['Wavelength(nm)']\n",
    "\n",
    "# Calculate the product of 2.303 and the Energy (eV) and \n",
    "# Absorption columns for the horizontal axis (X0) of the Tauc plot\n",
    "data['Y 0 tauk plot'] = 2.303 * (data['Energy (eV)'] * data['AbsorptionC'])\n",
    "\n",
    "# Calculate the square of the 'X 0 tauk plot' column for \n",
    "# the vertical axis (Y direct) of the Tauc plot to estimate the direct bandgap energy\n",
    "data['Y Di tauk plot'] = (data['Y 0 tauk plot'] ** 2)"
   ]
  },
  {
   "cell_type": "code",
   "execution_count": null,
   "id": "326f819c",
   "metadata": {},
   "outputs": [],
   "source": [
    "\"\"\"Tauc Plot Visualization:\n",
    "   Generating a Direct Tauc Plot for Bandgap Analysis\"\"\"\n",
    "# Plot the 'Y Di tauk plot' against the 'Energy (eV)' column\n",
    "plt.plot(data['Energy (eV)'], data['Y Di tauk plot'], '-o', label='Direct Tauk Plot')\n",
    "\n",
    "# Set the axis labels\n",
    "plt.xlabel('Energy (eV)')\n",
    "plt.ylabel('(ahv)^2')\n",
    "\n",
    "# Set the plot title\n",
    "plt.title('Direct Tauc plot')\n",
    "\n",
    "# Display the legend\n",
    "plt.legend(labels=['Direct Tauk Plot'])\n",
    "\n",
    "# Show the plot\n",
    "plt.show()"
   ]
  },
  {
   "cell_type": "code",
   "execution_count": null,
   "id": "e8f21606",
   "metadata": {},
   "outputs": [],
   "source": [
    "\"\"\"Since the horizontal axis takes into account the entire scale, \n",
    "   finding the bandgap does not seem easy. With this overview, \n",
    "   a threshold can be considered for reploting the shape.\n",
    "   This helps us to take a closer look at the part of the curve \n",
    "   that is suitable for finding the energy Bandgap. \n",
    "   We can repeat this part over and over again \n",
    "   by choosing different threshold values. \"\"\"\n",
    "\n",
    "# Choose a threshold energy value (hν_threshold) to subset the data\n",
    "hν_threshold = 3.8 # Example value - Adjust based on your data\n",
    "\n",
    "above_threshold_data = data[(data['Energy (eV)'] > hν_threshold)]\n",
    "# Plot the subsetted data above the threshold energy\n",
    "plt.plot(above_threshold_data['Energy (eV)'], above_threshold_data['Y Di tauk plot'], '-x', label='Subsetted Data')\n",
    "\n",
    "# Set the axis labels\n",
    "plt.xlabel('Energy (eV)')\n",
    "plt.ylabel('(ahv)^2')\n",
    "\n",
    "# Show the plot\n",
    "plt.show()"
   ]
  },
  {
   "cell_type": "code",
   "execution_count": null,
   "id": "08a70a3d",
   "metadata": {},
   "outputs": [],
   "source": [
    "\"\"\"We can separate the ones larger than the threshold and \n",
    "fit them with a straight line. Definitely, \n",
    "the  intersects of this line with the x-axis can give us \n",
    "proper information about the bandgap.\"\"\"\n",
    "from scipy.optimize import curve_fit\n",
    "\n",
    "# Extract the x and y values from the above_threshold_data DataFrame\n",
    "x_vals = np.array(above_threshold_data['Energy (eV)'])\n",
    "y_vals = np.array(above_threshold_data['Y Di tauk plot'])\n",
    "\n",
    "# Fit a linear regression line to the subsetted data using the curve_fit function\n",
    "popt, pcov = curve_fit(lambda x, m, b: m*x + b, x_vals, y_vals)\n",
    "\n",
    "# Extract the slope and intercept values from the linear fit results\n",
    "slope = popt[0]\n",
    "intercept = popt[1]\n",
    "\n",
    "# Calculate the x-intercept of the linear regression line or E_g\n",
    "x_intercept = -intercept / slope\n",
    "E_g=x_intercept\n",
    "\n",
    "\n",
    "# Print the calculated bandgap energy value with a precision of 3 decimal places\n",
    "print(f\"Bandgap energy: {E_g:.3f} eV\")"
   ]
  },
  {
   "cell_type": "code",
   "execution_count": null,
   "id": "0f6ac2c3",
   "metadata": {},
   "outputs": [],
   "source": [
    "# %% ======================================================================\n",
    "# %% Plotting the linear fitted line and subsetted data points\n",
    "# %% ======================================================================\n",
    "# Add the fitted line to the plot\n",
    "plt.plot(above_threshold_data['Energy (eV)'], slope * above_threshold_data['Energy (eV)'] + intercept, '--', label='Linear Fitted Line')\n",
    "\n",
    "# Add the subsetted data points to the plot\n",
    "plt.plot(above_threshold_data['Energy (eV)'], above_threshold_data['Y Di tauk plot'], '-x', label='Subsetted Data')\n",
    "\n",
    "# Set the axis labels\n",
    "plt.xlabel('Energy (eV)')\n",
    "plt.ylabel('(ahv)^2')\n",
    "\n",
    "# Set the plot title\n",
    "plt.title('Direct Tauc plot')\n",
    "\n",
    "# Display the legend\n",
    "plt.legend(loc='upper right')\n",
    "\n",
    "# Show the plot\n",
    "plt.show()"
   ]
  }
 ],
 "metadata": {
  "kernelspec": {
   "display_name": "Python 3 (ipykernel)",
   "language": "python",
   "name": "python3"
  },
  "language_info": {
   "codemirror_mode": {
    "name": "ipython",
    "version": 3
   },
   "file_extension": ".py",
   "mimetype": "text/x-python",
   "name": "python",
   "nbconvert_exporter": "python",
   "pygments_lexer": "ipython3",
   "version": "3.11.5"
  }
 },
 "nbformat": 4,
 "nbformat_minor": 5
}
